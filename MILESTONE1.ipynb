{
 "cells": [
  {
   "cell_type": "code",
   "execution_count": 2,
   "metadata": {},
   "outputs": [
    {
     "name": "stdout",
     "output_type": "stream",
     "text": [
      "Defaulting to user installation because normal site-packages is not writeable\n",
      "Collecting fastavro\n",
      "  Downloading fastavro-1.10.0-cp39-cp39-macosx_10_9_universal2.whl (1.0 MB)\n",
      "\u001b[K     |████████████████████████████████| 1.0 MB 5.4 MB/s eta 0:00:01\n",
      "\u001b[?25hCollecting faker\n",
      "  Downloading Faker-36.1.1-py3-none-any.whl (1.9 MB)\n",
      "\u001b[K     |████████████████████████████████| 1.9 MB 11.4 MB/s eta 0:00:01\n",
      "\u001b[?25hRequirement already satisfied: tzdata in /Users/valeriaarinomontero/Library/Python/3.9/lib/python/site-packages (from faker) (2025.1)\n",
      "Installing collected packages: fastavro, faker\n",
      "Successfully installed faker-36.1.1 fastavro-1.10.0\n",
      "\u001b[33mWARNING: You are using pip version 21.2.4; however, version 25.0.1 is available.\n",
      "You should consider upgrading via the '/Library/Developer/CommandLineTools/usr/bin/python3 -m pip install --upgrade pip' command.\u001b[0m\n",
      "Note: you may need to restart the kernel to use updated packages.\n"
     ]
    }
   ],
   "source": [
    "pip install fastavro faker"
   ]
  },
  {
   "cell_type": "code",
   "execution_count": 1,
   "metadata": {},
   "outputs": [],
   "source": [
    "import json\n",
    "import random\n",
    "import fastavro\n",
    "from fastavro.schema import load_schema\n",
    "from faker import Faker\n",
    "from datetime import datetime, timedelta\n",
    "from decimal import Decimal"
   ]
  },
  {
   "cell_type": "code",
   "execution_count": 14,
   "metadata": {},
   "outputs": [
    {
     "name": "stdout",
     "output_type": "stream",
     "text": [
      "✅ Successfully generated ride request and ride status data in JSON and AVRO formats.\n"
     ]
    }
   ],
   "source": [
    "fake = Faker()\n",
    "\n",
    "# Define a unified schema with \"Location\" only once\n",
    "full_schema = {\n",
    "    \"type\": \"record\",\n",
    "    \"name\": \"RideHailingEvent\",\n",
    "    \"namespace\": \"com.ridehailing\",\n",
    "    \"fields\": [\n",
    "        {\n",
    "            \"name\": \"event_type\",\n",
    "            \"type\": {\"type\": \"enum\", \"name\": \"EventType\", \"symbols\": [\"RideRequest\", \"RideStatus\"]}\n",
    "        },\n",
    "        {\n",
    "            \"name\": \"ride_request\",\n",
    "            \"type\": [\n",
    "                \"null\",\n",
    "                {\n",
    "                    \"type\": \"record\",\n",
    "                    \"name\": \"RideRequest\",\n",
    "                    \"fields\": [\n",
    "                        {\"name\": \"passenger_id\", \"type\": \"string\"},\n",
    "                        {\"name\": \"pickup_location\", \"type\": {\n",
    "                            \"type\": \"record\",\n",
    "                            \"name\": \"Location\",\n",
    "                            \"fields\": [\n",
    "                                {\"name\": \"latitude\", \"type\": \"float\"},\n",
    "                                {\"name\": \"longitude\", \"type\": \"float\"}\n",
    "                            ]\n",
    "                        }},\n",
    "                        {\"name\": \"dropoff_location\", \"type\": \"Location\"},\n",
    "                        {\"name\": \"timestamp\", \"type\": \"string\"},\n",
    "                        {\"name\": \"status\", \"type\": {\"type\": \"enum\", \"name\": \"Status\", \"symbols\": [\"Requested\", \"Canceled\"]}},\n",
    "                        {\"name\": \"estimated_duration\", \"type\": \"int\"},\n",
    "                        {\"name\": \"estimated_price\", \"type\": \"float\"}\n",
    "                    ]\n",
    "                }\n",
    "            ]\n",
    "        },\n",
    "        {\n",
    "            \"name\": \"ride_status\",\n",
    "            \"type\": [\n",
    "                \"null\",\n",
    "                {\n",
    "                    \"type\": \"record\",\n",
    "                    \"name\": \"RideStatus\",\n",
    "                    \"fields\": [\n",
    "                        {\"name\": \"ride_id\", \"type\": \"string\"},\n",
    "                        {\"name\": \"driver_id\", \"type\": \"string\"},\n",
    "                        {\"name\": \"passenger_id\", \"type\": \"string\"},\n",
    "                        {\"name\": \"pickup_location\", \"type\": \"Location\"},\n",
    "                        {\"name\": \"dropoff_location\", \"type\": \"Location\"},\n",
    "                        {\"name\": \"timestamp\", \"type\": \"string\"},\n",
    "                        {\"name\": \"status\", \"type\": {\"type\": \"enum\", \"name\": \"RideStatusEnum\", \"symbols\": [\"Accepted\", \"Ongoing\", \"Completed\"]}},\n",
    "                        {\"name\": \"actual_duration\", \"type\": \"int\"},\n",
    "                        {\"name\": \"final_price\", \"type\": \"float\"}\n",
    "                    ]\n",
    "                }\n",
    "            ]\n",
    "        }\n",
    "    ]\n",
    "}\n",
    "\n",
    "# Custom JSON encoder for Decimal\n",
    "class DecimalEncoder(json.JSONEncoder):\n",
    "    def default(self, obj):\n",
    "        if isinstance(obj, Decimal):\n",
    "            return float(obj)\n",
    "        return super(DecimalEncoder, self).default(obj)\n",
    "\n",
    "# Function to generate a random ride request\n",
    "def generate_ride_request():\n",
    "    return {\n",
    "        \"event_type\": \"RideRequest\",\n",
    "        \"ride_request\": {\n",
    "            \"passenger_id\": fake.uuid4(),\n",
    "            \"pickup_location\": {\"latitude\": float(fake.latitude()), \"longitude\": float(fake.longitude())},\n",
    "            \"dropoff_location\": {\"latitude\": float(fake.latitude()), \"longitude\": float(fake.longitude())},\n",
    "            \"timestamp\": datetime.now().isoformat(),\n",
    "            \"status\": random.choice([\"Requested\", \"Canceled\"]),\n",
    "            \"estimated_duration\": random.randint(5, 60),\n",
    "            \"estimated_price\": float(round(random.uniform(5.0, 50.0), 2))\n",
    "        },\n",
    "        \"ride_status\": None\n",
    "    }\n",
    "\n",
    "# Function to generate a random ride status\n",
    "def generate_ride_status():\n",
    "    return {\n",
    "        \"event_type\": \"RideStatus\",\n",
    "        \"ride_request\": None,\n",
    "        \"ride_status\": {\n",
    "            \"ride_id\": fake.uuid4(),\n",
    "            \"driver_id\": fake.uuid4(),\n",
    "            \"passenger_id\": fake.uuid4(),\n",
    "            \"pickup_location\": {\"latitude\": float(fake.latitude()), \"longitude\": float(fake.longitude())},\n",
    "            \"dropoff_location\": {\"latitude\": float(fake.latitude()), \"longitude\": float(fake.longitude())},\n",
    "            \"timestamp\": datetime.now().isoformat(),\n",
    "            \"status\": random.choice([\"Accepted\", \"Ongoing\", \"Completed\"]),\n",
    "            \"actual_duration\": random.randint(5, 60),\n",
    "            \"final_price\": float(round(random.uniform(5.0, 50.0), 2))\n",
    "        }\n",
    "    }\n",
    "\n",
    "# Generate sample data\n",
    "ride_requests = [generate_ride_request() for _ in range(5)]\n",
    "ride_statuses = [generate_ride_status() for _ in range(5)]\n",
    "all_events = ride_requests + ride_statuses\n",
    "\n",
    "# Save JSON output\n",
    "with open(\"ride_events.json\", \"w\") as f:\n",
    "    json.dump(all_events, f, indent=4, cls=DecimalEncoder)\n",
    "\n",
    "# Save AVRO output\n",
    "def save_avro(data, schema, filename):\n",
    "    with open(filename, \"wb\") as out:\n",
    "        fastavro.writer(out, schema, data)\n",
    "\n",
    "save_avro(all_events, full_schema, \"ride_events.avro\")\n",
    "\n",
    "print(\"✅ Successfully generated ride request and ride status data in JSON and AVRO formats.\")"
   ]
  },
  {
   "cell_type": "code",
   "execution_count": 11,
   "metadata": {},
   "outputs": [
    {
     "name": "stderr",
     "output_type": "stream",
     "text": [
      "256.91s - pydevd: Sending message related to process being replaced timed-out after 5 seconds\n"
     ]
    },
    {
     "name": "stdout",
     "output_type": "stream",
     "text": [
      "git version 2.39.3 (Apple Git-146)\n"
     ]
    }
   ],
   "source": [
    "!git --version"
   ]
  },
  {
   "cell_type": "code",
   "execution_count": 12,
   "metadata": {},
   "outputs": [
    {
     "name": "stderr",
     "output_type": "stream",
     "text": [
      "295.91s - pydevd: Sending message related to process being replaced timed-out after 5 seconds\n",
      "301.21s - pydevd: Sending message related to process being replaced timed-out after 5 seconds\n"
     ]
    }
   ],
   "source": [
    "!git config --global user.name \"VCAM101\"\n",
    "!git config --global user.email \"varino.ieu2021@student.ie.edu\""
   ]
  },
  {
   "cell_type": "code",
   "execution_count": 13,
   "metadata": {},
   "outputs": [
    {
     "name": "stderr",
     "output_type": "stream",
     "text": [
      "328.02s - pydevd: Sending message related to process being replaced timed-out after 5 seconds\n"
     ]
    },
    {
     "name": "stdout",
     "output_type": "stream",
     "text": [
      "/Users/valeriaarinomontero/Desktop/2nd Semester (4th Year)/STREAM ANALYTICS/GROUP PROJECTS/MILESTONE 1\n"
     ]
    },
    {
     "name": "stderr",
     "output_type": "stream",
     "text": [
      "333.31s - pydevd: Sending message related to process being replaced timed-out after 5 seconds\n"
     ]
    },
    {
     "name": "stdout",
     "output_type": "stream",
     "text": [
      "MILESTONE1.ipynb\n",
      "Stream Analytics Group Presentation Milestone 1.pdf\n",
      "ride_events.avro\n",
      "ride_events.json\n"
     ]
    }
   ],
   "source": [
    "!pwd  # Shows your current directory\n",
    "!ls   # Lists all files in the folder"
   ]
  }
 ],
 "metadata": {
  "kernelspec": {
   "display_name": "Python 3",
   "language": "python",
   "name": "python3"
  },
  "language_info": {
   "codemirror_mode": {
    "name": "ipython",
    "version": 3
   },
   "file_extension": ".py",
   "mimetype": "text/x-python",
   "name": "python",
   "nbconvert_exporter": "python",
   "pygments_lexer": "ipython3",
   "version": "3.9.6"
  }
 },
 "nbformat": 4,
 "nbformat_minor": 2
}
